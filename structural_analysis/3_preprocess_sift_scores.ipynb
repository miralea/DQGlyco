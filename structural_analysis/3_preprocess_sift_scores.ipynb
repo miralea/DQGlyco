{
 "cells": [
  {
   "cell_type": "code",
   "execution_count": null,
   "metadata": {},
   "outputs": [],
   "source": [
    "import pandas as pd\n",
    "\n",
    "input_file = 'data/raw_mouse_sift_scores.gz'\n",
    "output_file = 'data/mouse_sift.tsv'\n",
    "\n",
    "# read the input file as a data frame\n",
    "df = pd.read_csv(input_file, sep=\"\\t\", compression=\"gzip\")\n",
    "\n",
    "# select only the columns of interest\n",
    "int_columns = [\"Gene_id\", 'Ref_amino_acid', 'New_amino_acid', 'Position_of_amino_acid_substitution', 'SIFT_score']\n",
    "df = df[int_columns]\n",
    "\n",
    "# discard rows with missing values in the SIFT_score column\n",
    "df = df.dropna(subset=['SIFT_score'])\n",
    "\n",
    "# summarise by Gene_id and Position_of_amino_acid_substitution, and get the mean of the SIFT_score\n",
    "mean_df = df.groupby(['Gene_id', 'Position_of_amino_acid_substitution']).mean(['SIFT_score'])\n",
    "\n",
    "# write the output file\n",
    "mean_df.to_csv(output_file, sep=\"\\t\")"
   ]
  }
 ],
 "metadata": {
  "kernelspec": {
   "display_name": "base",
   "language": "python",
   "name": "python3"
  },
  "language_info": {
   "name": "python",
   "version": "3.9.12"
  },
  "orig_nbformat": 4
 },
 "nbformat": 4,
 "nbformat_minor": 2
}
