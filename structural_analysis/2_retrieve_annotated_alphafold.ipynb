{
 "cells": [
  {
   "cell_type": "code",
   "execution_count": 2,
   "metadata": {},
   "outputs": [
    {
     "name": "stderr",
     "output_type": "stream",
     "text": [
      "<frozen importlib._bootstrap>:228: RuntimeWarning: scipy._lib.messagestream.MessageStream size changed, may indicate binary incompatibility. Expected 56 from C header, got 64 from PyObject\n"
     ]
    }
   ],
   "source": [
    "# Libraries, functions and input file\n",
    "import structuremap.utils\n",
    "from structuremap.processing import download_alphafold_cif, download_alphafold_pae, format_alphafold_data, annotate_accessibility, get_smooth_score, annotate_proteins_with_idr_pattern, get_extended_flexible_pattern, get_proximity_pvals, perform_enrichment_analysis, evaluate_ptm_colocalization\n",
    "import pandas as pd\n",
    "import os\n",
    "import numpy as np\n",
    "structuremap.utils.set_logger()"
   ]
  },
  {
   "cell_type": "code",
   "execution_count": 3,
   "metadata": {},
   "outputs": [],
   "source": [
    "def retrieve_annotated_alphafold(uniprot_ids, afold_dir):\n",
    "\n",
    "    # define cif and pae dirs\n",
    "    cif_dir = os.path.join(afold_dir, 'cif')\n",
    "    pae_dir = os.path.join(afold_dir, 'pae')\n",
    "    # download the cif files\n",
    "    valid_proteins_cif, invalid_proteins_cif, existing_proteins_cif = download_alphafold_cif(\n",
    "        proteins=uniprot_ids,\n",
    "        out_folder=cif_dir\n",
    "    )\n",
    "    # download the pae files\n",
    "    valid_proteins_pae, invalid_proteins_pae, existing_proteins_pae = download_alphafold_pae(\n",
    "        proteins=uniprot_ids,\n",
    "        out_folder=pae_dir\n",
    "    )\n",
    "    # read downloaded files anf format them\n",
    "    alphafold_annotation = format_alphafold_data(\n",
    "        directory = cif_dir,\n",
    "        protein_ids = uniprot_ids,\n",
    "    )\n",
    "    # annotate with full-sphere PSE values\n",
    "    full_sphere_exposure = annotate_accessibility(\n",
    "        df = alphafold_annotation,\n",
    "        max_dist = 24,\n",
    "        max_angle = 180,\n",
    "        error_dir = pae_dir\n",
    "    )\n",
    "    # merge parsed alphafold with pPSE values\n",
    "    alphafold_accessibility = alphafold_annotation.merge(\n",
    "        full_sphere_exposure, how ='left', on=['protein_id','AA','position']\n",
    "    )\n",
    "    # annotate with partial sphere exposure values\n",
    "    part_sphere_exposure = annotate_accessibility(\n",
    "        df=alphafold_annotation, \n",
    "        max_dist=12, \n",
    "        max_angle=70, \n",
    "        error_dir=pae_dir\n",
    "    )\n",
    "    # merge with the previous dataframe\n",
    "    alphafold_accessibility = alphafold_accessibility.merge(\n",
    "        part_sphere_exposure, how='left', on=['protein_id','AA','position']\n",
    "    )\n",
    "    # discretize high and low accessibility\n",
    "    alphafold_accessibility['high_acc_5'] = np.where(alphafold_accessibility.nAA_12_70_pae <= 5, 1, 0)\n",
    "    alphafold_accessibility['low_acc_5'] = np.where(alphafold_accessibility.nAA_12_70_pae > 5, 1, 0)\n",
    "    # smooth full sphere exposure\n",
    "    alphafold_accessibility_smooth = get_smooth_score(\n",
    "        alphafold_accessibility, \n",
    "        np.array(['nAA_24_180_pae']), \n",
    "        [10]\n",
    "    )\n",
    "    # discretize into \"intrinsically disorder regions\"\n",
    "    alphafold_accessibility_smooth['IDR'] = np.where(\n",
    "        alphafold_accessibility_smooth['nAA_24_180_pae_smooth10'] <= 34.27, 1, 0\n",
    "    )\n",
    "    # anotate short IDRs as IDRs that occur between two large ordered regions\n",
    "    alphafold_accessibility_smooth_pattern = annotate_proteins_with_idr_pattern(\n",
    "        alphafold_accessibility_smooth,\n",
    "        min_structured_length = 80, \n",
    "        max_unstructured_length = 20\n",
    "    )\n",
    "    # extend the IDRs by 5 residues on both sides to increase coverage of detected psites\n",
    "    alphafold_accessibility_smooth_pattern_ext = get_extended_flexible_pattern(\n",
    "        alphafold_accessibility_smooth_pattern, \n",
    "        ['flexible_pattern'], [5]\n",
    "    )\n",
    "    return(alphafold_accessibility_smooth_pattern_ext)\n",
    "\n",
    "def download_and_annotate_structures(input_file, output_file, afold_dir, uniprot_id_column = \"Protein ID\"):\n",
    "    # read site level df\n",
    "    site_level_df = pd.read_csv(input_file)\n",
    "    unique_proteins = site_level_df[uniprot_id_column].unique()\n",
    "    # retrieve annotated alphafold data\n",
    "    annotated_afold = retrieve_annotated_alphafold(unique_proteins, afold_dir)\n",
    "    # write to output csv\n",
    "    annotated_afold.to_csv(output_file, index=False)"
   ]
  },
  {
   "cell_type": "code",
   "execution_count": 4,
   "metadata": {},
   "outputs": [
    {
     "name": "stderr",
     "output_type": "stream",
     "text": [
      "100%|██████████| 1336/1336 [00:04<00:00, 332.40it/s]"
     ]
    },
    {
     "name": "stdout",
     "output_type": "stream",
     "text": [
      "2023-03-31 16:47:33> Valid proteins: 0\n",
      "2023-03-31 16:47:33> Invalid proteins: 65\n",
      "2023-03-31 16:47:33> Existing proteins: 1271\n"
     ]
    },
    {
     "name": "stderr",
     "output_type": "stream",
     "text": [
      "\n"
     ]
    },
    {
     "name": "stdout",
     "output_type": "stream",
     "text": [
      "Valid proteins:  0\n",
      "Invalid proteins:  65\n",
      "Existing proteins:  1271\n"
     ]
    },
    {
     "name": "stderr",
     "output_type": "stream",
     "text": [
      "100%|██████████| 1336/1336 [00:03<00:00, 386.65it/s]"
     ]
    },
    {
     "name": "stdout",
     "output_type": "stream",
     "text": [
      "2023-03-31 16:47:37> Valid proteins: 0\n",
      "2023-03-31 16:47:37> Invalid proteins: 65\n",
      "2023-03-31 16:47:37> Existing proteins: 1271\n"
     ]
    },
    {
     "name": "stderr",
     "output_type": "stream",
     "text": [
      "\n",
      "100%|██████████| 4343/4343 [04:31<00:00, 16.02it/s] \n",
      "100%|██████████| 1271/1271 [00:55<00:00, 23.06it/s]\n",
      "100%|██████████| 1271/1271 [00:27<00:00, 45.90it/s]\n",
      "100%|██████████| 1271/1271 [00:00<00:00, 1440.32it/s]\n",
      "100%|██████████| 1271/1271 [00:00<00:00, 1324.38it/s]\n",
      "100%|██████████| 1271/1271 [00:01<00:00, 1267.76it/s]\n"
     ]
    }
   ],
   "source": [
    "# download data for human cell lines\n",
    "input_file = \"data/raw_data/hek_hela_nglyco.csv\"\n",
    "output_file = \"data/structuremap_data/human_alphafold_annotated.csv\"\n",
    "afold_cache_dir = \"/Users/martin/Desktop/large_datasets/structuremap_analysis/\"\n",
    "download_and_annotate_structures(input_file, output_file, afold_cache_dir)"
   ]
  },
  {
   "cell_type": "code",
   "execution_count": null,
   "metadata": {},
   "outputs": [],
   "source": [
    "# download data for human cell lines\n",
    "input_file = \"data/raw_data/mouse_brain_nglyco.csv\"\n",
    "output_file = \"data/structuremap_data/mouse_alphafold_annotated.csv\"\n",
    "afold_cache_dir = \"/Users/martin/Desktop/large_datasets/structuremap_analysis/\"\n",
    "download_and_annotate_structures(input_file, output_file, afold_cache_dir)"
   ]
  }
 ],
 "metadata": {
  "kernelspec": {
   "display_name": "base",
   "language": "python",
   "name": "python3"
  },
  "language_info": {
   "codemirror_mode": {
    "name": "ipython",
    "version": 3
   },
   "file_extension": ".py",
   "mimetype": "text/x-python",
   "name": "python",
   "nbconvert_exporter": "python",
   "pygments_lexer": "ipython3",
   "version": "3.9.12"
  },
  "orig_nbformat": 4,
  "vscode": {
   "interpreter": {
    "hash": "b8692fbe41c986e5b7f5784af7fd9b01be2e027249d3b6f00457e8e9a33ccb6c"
   }
  }
 },
 "nbformat": 4,
 "nbformat_minor": 2
}
